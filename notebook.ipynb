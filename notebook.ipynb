{
    "metadata": {
        "kernelspec": {
            "name": "SQL",
            "display_name": "SQL",
            "language": "sql"
        },
        "language_info": {
            "name": "sql",
            "version": ""
        }
    },
    "nbformat_minor": 2,
    "nbformat": 4,
    "cells": [
        {
            "cell_type": "code",
            "source": [
                "CREATE TABLE jogos (\r\n",
                "    id INT IDENTITY(1000,1) PRIMARY KEY,\r\n",
                "    capa VARCHAR(255),\r\n",
                "    descricao VARCHAR(255),\r\n",
                "    preco FLOAT,\r\n",
                "    titulo VARCHAR(100)\r\n",
                ");"
            ],
            "metadata": {
                "azdata_cell_guid": "690a5e3e-f134-4c11-bed0-e51e3fddd0d2",
                "language": "sql"
            },
            "outputs": [
                {
                    "output_type": "display_data",
                    "data": {
                        "text/html": "Commands completed successfully."
                    },
                    "metadata": {}
                },
                {
                    "output_type": "display_data",
                    "data": {
                        "text/html": "Total execution time: 00:00:00.121"
                    },
                    "metadata": {}
                }
            ],
            "execution_count": 1
        }
    ]
}